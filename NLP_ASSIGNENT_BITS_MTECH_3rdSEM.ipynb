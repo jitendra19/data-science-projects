{
  "nbformat": 4,
  "nbformat_minor": 0,
  "metadata": {
    "colab": {
      "name": "NLP_ASSIGNENT_BITS_MTECH_3rdSEM.ipynb",
      "provenance": [],
      "collapsed_sections": [],
      "include_colab_link": true
    },
    "kernelspec": {
      "name": "python3",
      "display_name": "Python 3"
    },
    "language_info": {
      "name": "python"
    }
  },
  "cells": [
    {
      "cell_type": "markdown",
      "metadata": {
        "id": "view-in-github",
        "colab_type": "text"
      },
      "source": [
        "<a href=\"https://colab.research.google.com/github/jitendra19/data-science-projects/blob/main/NLP_ASSIGNENT_BITS_MTECH_3rdSEM.ipynb\" target=\"_parent\"><img src=\"https://colab.research.google.com/assets/colab-badge.svg\" alt=\"Open In Colab\"/></a>"
      ]
    },
    {
      "cell_type": "markdown",
      "metadata": {
        "id": "GMT2-QU1N3HY"
      },
      "source": [
        "# *Assignment 1 Set 1*\n",
        "\n",
        "# **NLP Group 014**\n",
        "\n",
        "## Group Members:\n",
        "\n",
        "1. Abhilash Kishor (2019ad04055)\n",
        "2. Jitendra kumar Singhal (2019ad04033)\n",
        "3. Nitish Soni (2019ad04007)"
      ]
    },
    {
      "cell_type": "code",
      "metadata": {
        "colab": {
          "base_uri": "https://localhost:8080/"
        },
        "id": "9KKnYCVq2tqX",
        "outputId": "34aa6a25-acf4-4138-b2b5-54a799fc4723"
      },
      "source": [
        "#installing all required packages/libs for assignment\n",
        "\n",
        "!pip install nltk\n"
      ],
      "execution_count": null,
      "outputs": [
        {
          "output_type": "stream",
          "text": [
            "Requirement already satisfied: nltk in /usr/local/lib/python3.7/dist-packages (3.2.5)\n",
            "Requirement already satisfied: six in /usr/local/lib/python3.7/dist-packages (from nltk) (1.15.0)\n"
          ],
          "name": "stdout"
        }
      ]
    },
    {
      "cell_type": "code",
      "metadata": {
        "id": "ruv74h1kP8E_",
        "colab": {
          "base_uri": "https://localhost:8080/"
        },
        "outputId": "772e035f-26e8-4a3b-bf94-4b78693fa958"
      },
      "source": [
        "# import all required modules\n",
        "from nltk.corpus import wordnet\n",
        "from tabulate import tabulate\n",
        "import pandas as pd\n",
        "\n",
        "import nltk\n",
        "nltk.download('wordnet')"
      ],
      "execution_count": null,
      "outputs": [
        {
          "output_type": "stream",
          "text": [
            "[nltk_data] Downloading package wordnet to /root/nltk_data...\n",
            "[nltk_data]   Package wordnet is already up-to-date!\n"
          ],
          "name": "stdout"
        },
        {
          "output_type": "execute_result",
          "data": {
            "text/plain": [
              "True"
            ]
          },
          "metadata": {
            "tags": []
          },
          "execution_count": 204
        }
      ]
    },
    {
      "cell_type": "code",
      "metadata": {
        "colab": {
          "base_uri": "https://localhost:8080/"
        },
        "id": "uDmMGIHJSuxe",
        "outputId": "b8dc4507-429e-4206-8c9d-3683b417e39e"
      },
      "source": [
        "# a. How many different definitions for word “ fun “is available ?\n",
        "syn = wordnet.synsets('fun')\n",
        "\n",
        "data = []\n",
        "\n",
        "for x in range(len(syn)):\n",
        "    data.append([syn[x].name(), syn[x].definition()])\n",
        "\n",
        "print(\"Different definition for word \\\"fun\\\":\\n\")\n",
        "print(tabulate(data, headers=[\"name\", \"definition\"]))"
      ],
      "execution_count": null,
      "outputs": [
        {
          "output_type": "stream",
          "text": [
            "Different definition for word \"fun\":\n",
            "\n",
            "name              definition\n",
            "----------------  --------------------------------------------------------------------------------\n",
            "fun.n.01          activities that are enjoyable or amusing\n",
            "fun.n.02          verbal wit or mockery (often at another's expense but not to be taken seriously)\n",
            "fun.n.03          violent and excited activity\n",
            "playfulness.n.02  a disposition to find (or make) causes for amusement\n"
          ],
          "name": "stdout"
        }
      ]
    },
    {
      "cell_type": "code",
      "metadata": {
        "id": "oPa7PsXiTQnj",
        "colab": {
          "base_uri": "https://localhost:8080/"
        },
        "outputId": "e375af91-5109-44bc-dbd8-377ee327163d"
      },
      "source": [
        "# b. Check the meaning of those different definations.  \n",
        "\n",
        "for words in wordnet.synsets(\"fun\"): \n",
        "    print('Name - ',words.name())\n",
        "    print('Definition - ',words.definition())\n",
        "    print('Example - ',words.examples())\n",
        "    print('list of Lemmas :-')\n",
        "    for lemma in words.lemmas(): \n",
        "        print('    ', lemma)\n",
        "    print(\"\\n\")"
      ],
      "execution_count": null,
      "outputs": [
        {
          "output_type": "stream",
          "text": [
            "Name -  fun.n.01\n",
            "Definition -  activities that are enjoyable or amusing\n",
            "Example -  ['I do it for the fun of it', 'he is fun to have around']\n",
            "list of Lemmas :-\n",
            "     Lemma('fun.n.01.fun')\n",
            "     Lemma('fun.n.01.merriment')\n",
            "     Lemma('fun.n.01.playfulness')\n",
            "\n",
            "\n",
            "Name -  fun.n.02\n",
            "Definition -  verbal wit or mockery (often at another's expense but not to be taken seriously)\n",
            "Example -  ['he became a figure of fun', 'he said it in sport']\n",
            "list of Lemmas :-\n",
            "     Lemma('fun.n.02.fun')\n",
            "     Lemma('fun.n.02.play')\n",
            "     Lemma('fun.n.02.sport')\n",
            "\n",
            "\n",
            "Name -  fun.n.03\n",
            "Definition -  violent and excited activity\n",
            "Example -  ['she asked for money and then the fun began', 'they began to fight like fun']\n",
            "list of Lemmas :-\n",
            "     Lemma('fun.n.03.fun')\n",
            "\n",
            "\n",
            "Name -  playfulness.n.02\n",
            "Definition -  a disposition to find (or make) causes for amusement\n",
            "Example -  ['her playfulness surprised me', 'he was fun to be with']\n",
            "list of Lemmas :-\n",
            "     Lemma('playfulness.n.02.playfulness')\n",
            "     Lemma('playfulness.n.02.fun')\n",
            "\n",
            "\n"
          ],
          "name": "stdout"
        }
      ]
    },
    {
      "cell_type": "code",
      "metadata": {
        "id": "xrhZQUm6TSqC",
        "colab": {
          "base_uri": "https://localhost:8080/"
        },
        "outputId": "b10c5bcc-0564-427d-d6cc-4f6239af7ac9"
      },
      "source": [
        "\n",
        "#  c. Find out all details for the word “play”\n",
        "#  d. Find Hypernyms for word “play”\n",
        "#  e. Find Hyponyms for word “play”\n",
        "\n",
        "\n",
        "word = wordnet.synsets(\"Play\")[0]\n",
        "\n",
        "#Checking name :\n",
        "print('Name - ',word.name())\n",
        "\n",
        "#Checking definition :\n",
        "print('Definition - ',word.definition())\n",
        "\n",
        "#Checking examples:\n",
        "print('example - ',word.examples())\n",
        "\n",
        "#Find more abstract term :\n",
        "print('Hypernyms - ',word.hypernyms())\n",
        "\n",
        "#Find more specific term :\n",
        "print('Hyponyms :- ',word.hyponyms())\n",
        "\n",
        "#Get only name :\n",
        "Lemma = word.lemmas()[0].name()\n",
        "print('one of the Lemma:- ',Lemma)"
      ],
      "execution_count": null,
      "outputs": [
        {
          "output_type": "stream",
          "text": [
            "Name -  play.n.01\n",
            "Definition -  a dramatic work intended for performance by actors on a stage\n",
            "example -  ['he wrote several plays but only one was produced on Broadway']\n",
            "Hypernyms -  [Synset('dramatic_composition.n.01')]\n",
            "Hyponyms :-  [Synset('grand_guignol.n.01'), Synset('miracle_play.n.01'), Synset('morality_play.n.01'), Synset('mystery_play.n.01'), Synset('passion_play.n.01'), Synset('playlet.n.01'), Synset('satyr_play.n.01'), Synset('theater_of_the_absurd.n.01')]\n",
            "one of the Lemma:-  play\n"
          ],
          "name": "stdout"
        }
      ]
    },
    {
      "cell_type": "code",
      "metadata": {
        "colab": {
          "base_uri": "https://localhost:8080/"
        },
        "id": "kKd6yDfNWrNp",
        "outputId": "4e745b73-7d16-4658-c9d7-669170cfcea2"
      },
      "source": [
        "### all details of for each Play\n",
        "\n",
        "words = wordnet.synsets(\"Play\")\n",
        "for i in range(len(words)):\n",
        "  print('Name - ',words[i].name())  \n",
        "  print('Definition - ',words[i].definition())\n",
        "  print('example - ',words[i].examples())\n",
        "  print('Hypernyms - ',words[i].hypernyms())\n",
        "  print('Hyponyms :- ',words[i].hyponyms())\n",
        "  lemmas = []\n",
        "  for lemma in words[i].lemmas():\n",
        "    lemmas.append(lemma.name())\n",
        "  print('Lemmas :- ',lemmas)\n",
        "  print('\\n')"
      ],
      "execution_count": null,
      "outputs": [
        {
          "output_type": "stream",
          "text": [
            "Name -  play.n.01\n",
            "Definition -  a dramatic work intended for performance by actors on a stage\n",
            "example -  ['he wrote several plays but only one was produced on Broadway']\n",
            "Hypernyms -  [Synset('dramatic_composition.n.01')]\n",
            "Hyponyms :-  [Synset('grand_guignol.n.01'), Synset('miracle_play.n.01'), Synset('morality_play.n.01'), Synset('mystery_play.n.01'), Synset('passion_play.n.01'), Synset('playlet.n.01'), Synset('satyr_play.n.01'), Synset('theater_of_the_absurd.n.01')]\n",
            "Lemmas :-  ['play', 'drama', 'dramatic_play']\n",
            "\n",
            "\n",
            "Name -  play.n.02\n",
            "Definition -  a theatrical performance of a drama\n",
            "example -  ['the play lasted two hours']\n",
            "Hypernyms -  [Synset('show.n.03')]\n",
            "Hyponyms :-  [Synset('curtain_raiser.n.02'), Synset('musical.n.01')]\n",
            "Lemmas :-  ['play']\n",
            "\n",
            "\n",
            "Name -  play.n.03\n",
            "Definition -  a preset plan of action in team sports\n",
            "example -  ['the coach drew up the plays for her team']\n",
            "Hypernyms -  [Synset('plan_of_action.n.01')]\n",
            "Hyponyms :-  [Synset('basketball_play.n.01'), Synset('football_play.n.01'), Synset('knock_on.n.01'), Synset('power_play.n.03'), Synset('razzle-dazzle.n.01')]\n",
            "Lemmas :-  ['play']\n",
            "\n",
            "\n",
            "Name -  maneuver.n.03\n",
            "Definition -  a deliberate coordinated movement requiring dexterity and skill\n",
            "example -  ['he made a great maneuver', 'the runner was out on a play by the shortstop']\n",
            "Hypernyms -  [Synset('motion.n.06')]\n",
            "Hyponyms :-  [Synset('assist.n.02'), Synset('ball_hawking.n.01'), Synset('baseball_play.n.01'), Synset('completion.n.01'), Synset('figure.n.13'), Synset('footwork.n.01'), Synset('icing.n.03'), Synset('jugglery.n.02'), Synset('mousetrap.n.02'), Synset('obstruction.n.05'), Synset('safety_blitz.n.01'), Synset('stroke.n.01'), Synset('takeaway.n.03')]\n",
            "Lemmas :-  ['maneuver', 'manoeuvre', 'play']\n",
            "\n",
            "\n",
            "Name -  play.n.05\n",
            "Definition -  a state in which action is feasible\n",
            "example -  ['the ball was still in play', \"insiders said the company's stock was in play\"]\n",
            "Hypernyms -  [Synset('action.n.02')]\n",
            "Hyponyms :-  []\n",
            "Lemmas :-  ['play']\n",
            "\n",
            "\n",
            "Name -  play.n.06\n",
            "Definition -  utilization or exercise\n",
            "example -  ['the play of the imagination']\n",
            "Hypernyms -  [Synset('use.n.01')]\n",
            "Hyponyms :-  []\n",
            "Lemmas :-  ['play']\n",
            "\n",
            "\n",
            "Name -  bid.n.02\n",
            "Definition -  an attempt to get something\n",
            "example -  ['they made a futile play for power', 'he made a bid to gain attention']\n",
            "Hypernyms -  [Synset('attempt.n.01')]\n",
            "Hyponyms :-  []\n",
            "Lemmas :-  ['bid', 'play']\n",
            "\n",
            "\n",
            "Name -  play.n.08\n",
            "Definition -  activity by children that is guided more by imagination than by fixed rules\n",
            "example -  ['Freud believed in the utility of play to a small child']\n",
            "Hypernyms -  [Synset('diversion.n.01')]\n",
            "Hyponyms :-  [Synset('doctor.n.03'), Synset('fireman.n.01'), Synset('house.n.07')]\n",
            "Lemmas :-  ['play', \"child's_play\"]\n",
            "\n",
            "\n",
            "Name -  playing_period.n.01\n",
            "Definition -  (in games or plays or other performances) the time during which play proceeds\n",
            "example -  ['rain stopped play in the 4th inning']\n",
            "Hypernyms -  [Synset('measure.n.02')]\n",
            "Hyponyms :-  [Synset('hole.n.03'), Synset('set.n.08')]\n",
            "Lemmas :-  ['playing_period', 'period_of_play', 'play']\n",
            "\n",
            "\n",
            "Name -  free_rein.n.01\n",
            "Definition -  the removal of constraints\n",
            "example -  ['he gave free rein to his impulses', \"they gave full play to the artist's talent\"]\n",
            "Hypernyms -  [Synset('freedom.n.01')]\n",
            "Hyponyms :-  []\n",
            "Lemmas :-  ['free_rein', 'play']\n",
            "\n",
            "\n",
            "Name -  shimmer.n.01\n",
            "Definition -  a weak and tremulous light\n",
            "example -  ['the shimmer of colors on iridescent feathers', 'the play of light on the water']\n",
            "Hypernyms -  [Synset('change.n.01')]\n",
            "Hyponyms :-  []\n",
            "Lemmas :-  ['shimmer', 'play']\n",
            "\n",
            "\n",
            "Name -  fun.n.02\n",
            "Definition -  verbal wit or mockery (often at another's expense but not to be taken seriously)\n",
            "example -  ['he became a figure of fun', 'he said it in sport']\n",
            "Hypernyms -  [Synset('wit.n.01')]\n",
            "Hyponyms :-  [Synset('drollery.n.01'), Synset('jocosity.n.01'), Synset('pun.n.01'), Synset('waggery.n.01')]\n",
            "Lemmas :-  ['fun', 'play', 'sport']\n",
            "\n",
            "\n",
            "Name -  looseness.n.05\n",
            "Definition -  movement or space for movement\n",
            "example -  ['there was too much play in the steering wheel']\n",
            "Hypernyms -  [Synset('movability.n.01')]\n",
            "Hyponyms :-  [Synset('slack.n.05'), Synset('wiggliness.n.01')]\n",
            "Lemmas :-  ['looseness', 'play']\n",
            "\n",
            "\n",
            "Name -  play.n.14\n",
            "Definition -  gay or light-hearted recreational activity for diversion or amusement\n",
            "example -  ['it was all done in play', 'their frolic in the surf threatened to become ugly']\n",
            "Hypernyms -  [Synset('diversion.n.01')]\n",
            "Hyponyms :-  [Synset('flirt.n.02'), Synset('folly.n.04'), Synset('game.n.11'), Synset('horseplay.n.01'), Synset('teasing.n.02'), Synset('word_play.n.01')]\n",
            "Lemmas :-  ['play', 'frolic', 'romp', 'gambol', 'caper']\n",
            "\n",
            "\n",
            "Name -  turn.n.03\n",
            "Definition -  (game) the activity of doing something in an agreed succession\n",
            "example -  ['it is my turn', 'it is still my play']\n",
            "Hypernyms -  [Synset('activity.n.01')]\n",
            "Hyponyms :-  [Synset('attack.n.02'), Synset('bat.n.02'), Synset('down.n.02'), Synset('innings.n.01'), Synset('lead.n.17'), Synset('move.n.05'), Synset('ruff.n.04'), Synset('start.n.03'), Synset('trick.n.07')]\n",
            "Lemmas :-  ['turn', 'play']\n",
            "\n",
            "\n",
            "Name -  gambling.n.01\n",
            "Definition -  the act of playing for stakes in the hope of winning (including the payment of a price for a chance to win a prize)\n",
            "example -  ['his gambling cost him a fortune', 'there was heavy play at the blackjack table']\n",
            "Hypernyms -  [Synset('diversion.n.01'), Synset('vice.n.02')]\n",
            "Hyponyms :-  [Synset('bet.n.02'), Synset('game_of_chance.n.01'), Synset('sporting_life.n.01'), Synset('throw.n.05')]\n",
            "Lemmas :-  ['gambling', 'gaming', 'play']\n",
            "\n",
            "\n",
            "Name -  play.n.17\n",
            "Definition -  the act using a sword (or other weapon) vigorously and skillfully\n",
            "example -  []\n",
            "Hypernyms -  [Synset('action.n.01')]\n",
            "Hyponyms :-  [Synset('fencing.n.03')]\n",
            "Lemmas :-  ['play', 'swordplay']\n",
            "\n",
            "\n",
            "Name -  play.v.01\n",
            "Definition -  participate in games or sport\n",
            "example -  ['We played hockey all afternoon', 'play cards', 'Pele played for the Brazilian teams in many important matches']\n",
            "Hypernyms -  [Synset('compete.v.01')]\n",
            "Hyponyms :-  [Synset('ace.v.03'), Synset('backstop.v.01'), Synset('bandy.v.01'), Synset('bid.v.04'), Synset('bowl.v.03'), Synset('catch.v.27'), Synset('complete.v.04'), Synset('cradle.v.06'), Synset('cricket.v.01'), Synset('croquet.v.02'), Synset('curl.v.05'), Synset('develop.v.17'), Synset('develop.v.18'), Synset('die.v.08'), Synset('exit.v.02'), Synset('face_off.v.01'), Synset('field.v.02'), Synset('foul.v.04'), Synset('fullback.v.01'), Synset('fumble.v.05'), Synset('gamble.v.02'), Synset('golf.v.01'), Synset('line_up.v.06'), Synset('misplay.v.02'), Synset('play_out.v.03'), Synset('put_out.v.08'), Synset('putt.v.02'), Synset('quarterback.v.01'), Synset('replay.v.04'), Synset('revoke.v.01'), Synset('snooker.v.02'), Synset('start.v.11'), Synset('tee_off.v.01'), Synset('teeter-totter.v.01'), Synset('unblock.v.02'), Synset('volley.v.04'), Synset('walk.v.05')]\n",
            "Lemmas :-  ['play']\n",
            "\n",
            "\n",
            "Name -  play.v.02\n",
            "Definition -  act or have an effect in a specified way or with a specific effect or outcome\n",
            "example -  ['This factor played only a minor part in his decision', 'This development played into her hands', 'I played no role in your dismissal']\n",
            "Hypernyms -  [Synset('act.v.01')]\n",
            "Hyponyms :-  []\n",
            "Lemmas :-  ['play']\n",
            "\n",
            "\n",
            "Name -  play.v.03\n",
            "Definition -  play on an instrument\n",
            "example -  ['The band played all night long']\n",
            "Hypernyms -  [Synset('perform.v.03')]\n",
            "Hyponyms :-  [Synset('bow.v.05'), Synset('busk.v.01'), Synset('play_along.v.02'), Synset('sound_off.v.02'), Synset('swing.v.12'), Synset('symphonize.v.01')]\n",
            "Lemmas :-  ['play']\n",
            "\n",
            "\n",
            "Name -  act.v.03\n",
            "Definition -  play a role or part\n",
            "example -  ['Gielgud played Hamlet', 'She wants to act Lady Macbeth, but she is too young for the role', \"She played the servant to her husband's master\"]\n",
            "Hypernyms -  [Synset('re-create.v.01')]\n",
            "Hyponyms :-  [Synset('act_out.v.01'), Synset('emote.v.01'), Synset('enact.v.02'), Synset('impersonate.v.01'), Synset('make.v.42'), Synset('parody.v.01'), Synset('support.v.09')]\n",
            "Lemmas :-  ['act', 'play', 'represent']\n",
            "\n",
            "\n",
            "Name -  play.v.05\n",
            "Definition -  be at play; be engaged in playful activity; amuse oneself in a way characteristic of children\n",
            "example -  ['The kids were playing outside all day', 'I used to play with trucks as a little girl']\n",
            "Hypernyms -  [Synset('act.v.08')]\n",
            "Hyponyms :-  [Synset('dabble.v.02'), Synset('frolic.v.01'), Synset('horse_around.v.01'), Synset('roughhouse.v.01')]\n",
            "Lemmas :-  ['play']\n",
            "\n",
            "\n",
            "Name -  play.v.06\n",
            "Definition -  replay (as a melody)\n",
            "example -  ['Play it again, Sam', 'She played the third movement very beautifully']\n",
            "Hypernyms -  [Synset('re-create.v.01')]\n",
            "Hyponyms :-  [Synset('bang_out.v.01'), Synset('bugle.v.01'), Synset('fiddle.v.04'), Synset('jazz.v.01'), Synset('misplay.v.01'), Synset('modulate.v.01'), Synset('prelude.v.02'), Synset('rag.v.03'), Synset('replay.v.02'), Synset('reprise.v.01'), Synset('riff.v.02'), Synset('slur.v.01'), Synset('tongue.v.01')]\n",
            "Lemmas :-  ['play', 'spiel']\n",
            "\n",
            "\n",
            "Name -  play.v.07\n",
            "Definition -  perform music on (a musical instrument)\n",
            "example -  ['He plays the flute', 'Can you play on this old recorder?']\n",
            "Hypernyms -  [Synset('sound.v.06')]\n",
            "Hyponyms :-  [Synset('beat.v.19'), Synset('chord.v.01'), Synset('clarion.v.01'), Synset('drum.v.02'), Synset('fiddle.v.03'), Synset('harp.v.02'), Synset('pipe.v.03'), Synset('register.v.08'), Synset('skirl.v.02'), Synset('trumpet.v.02'), Synset('tweedle.v.02')]\n",
            "Lemmas :-  ['play']\n",
            "\n",
            "\n",
            "Name -  act.v.05\n",
            "Definition -  pretend to have certain qualities or state of mind\n",
            "example -  ['He acted the idiot', 'She plays deaf when the news are bad']\n",
            "Hypernyms -  [Synset('act.v.02')]\n",
            "Hyponyms :-  []\n",
            "Lemmas :-  ['act', 'play', 'act_as']\n",
            "\n",
            "\n",
            "Name -  play.v.09\n",
            "Definition -  move or seem to move quickly, lightly, or irregularly\n",
            "example -  ['The spotlights played on the politicians']\n",
            "Hypernyms -  [Synset('travel.v.01')]\n",
            "Hyponyms :-  []\n",
            "Lemmas :-  ['play']\n",
            "\n",
            "\n",
            "Name -  play.v.10\n",
            "Definition -  bet or wager (money)\n",
            "example -  ['He played $20 on the new horse', 'She plays the races']\n",
            "Hypernyms -  [Synset('gamble.v.02')]\n",
            "Hyponyms :-  [Synset('underplay.v.02')]\n",
            "Lemmas :-  ['play']\n",
            "\n",
            "\n",
            "Name -  play.v.11\n",
            "Definition -  engage in recreational activities rather than work; occupy oneself in a diversion\n",
            "example -  ['On weekends I play', 'The students all recreate alike']\n",
            "Hypernyms -  []\n",
            "Hyponyms :-  []\n",
            "Lemmas :-  ['play', 'recreate']\n",
            "\n",
            "\n",
            "Name -  play.v.12\n",
            "Definition -  pretend to be somebody in the framework of a game or playful activity\n",
            "example -  [\"Let's play like I am mommy\", 'Play cowboy and Indians']\n",
            "Hypernyms -  [Synset('simulate.v.03')]\n",
            "Hyponyms :-  []\n",
            "Lemmas :-  ['play']\n",
            "\n",
            "\n",
            "Name -  play.v.13\n",
            "Definition -  emit recorded sound\n",
            "example -  ['The tape was playing for hours', 'the stereo was playing Beethoven when I entered']\n",
            "Hypernyms -  [Synset('sound.v.03')]\n",
            "Hyponyms :-  []\n",
            "Lemmas :-  ['play']\n",
            "\n",
            "\n",
            "Name -  play.v.14\n",
            "Definition -  perform on a certain location\n",
            "example -  ['The prodigy played Carnegie Hall at the age of 16', 'She has been playing on Broadway for years']\n",
            "Hypernyms -  [Synset('perform.v.03')]\n",
            "Hyponyms :-  []\n",
            "Lemmas :-  ['play']\n",
            "\n",
            "\n",
            "Name -  play.v.15\n",
            "Definition -  put (a card or piece) into play during a game, or act strategically as if in a card game\n",
            "example -  ['He is playing his cards close to his chest', 'The Democrats still have some cards to play before they will concede the electoral victory']\n",
            "Hypernyms -  [Synset('deploy.v.01')]\n",
            "Hyponyms :-  [Synset('cover.v.23'), Synset('declare.v.06'), Synset('pitch.v.11')]\n",
            "Lemmas :-  ['play']\n",
            "\n",
            "\n",
            "Name -  play.v.16\n",
            "Definition -  engage in an activity as if it were a game rather than take it seriously\n",
            "example -  ['They played games on their opponents', 'play the stock market', 'play with her feelings', 'toy with an idea']\n",
            "Hypernyms -  [Synset('act.v.02')]\n",
            "Hyponyms :-  []\n",
            "Lemmas :-  ['play', 'toy']\n",
            "\n",
            "\n",
            "Name -  play.v.17\n",
            "Definition -  behave in a certain way\n",
            "example -  ['play safe', 'play it safe', 'play fair']\n",
            "Hypernyms -  [Synset('act.v.01')]\n",
            "Hyponyms :-  []\n",
            "Lemmas :-  ['play']\n",
            "\n",
            "\n",
            "Name -  play.v.18\n",
            "Definition -  cause to emit recorded audio or video\n",
            "example -  ['They ran the tapes over and over again', \"I'll play you my favorite record\", 'He never tires of playing that video']\n",
            "Hypernyms -  []\n",
            "Hyponyms :-  []\n",
            "Lemmas :-  ['play', 'run']\n",
            "\n",
            "\n",
            "Name -  toy.v.02\n",
            "Definition -  manipulate manually or in one's mind or imagination\n",
            "example -  ['She played nervously with her wedding ring', \"Don't fiddle with the screws\", 'He played with the idea of running for the Senate']\n",
            "Hypernyms -  [Synset('manipulate.v.02')]\n",
            "Hyponyms :-  [Synset('put_out.v.07')]\n",
            "Lemmas :-  ['toy', 'fiddle', 'diddle', 'play']\n",
            "\n",
            "\n",
            "Name -  play.v.20\n",
            "Definition -  use to one's advantage\n",
            "example -  [\"She plays on her clients' emotions\"]\n",
            "Hypernyms -  [Synset('exploit.v.01')]\n",
            "Hyponyms :-  []\n",
            "Lemmas :-  ['play']\n",
            "\n",
            "\n",
            "Name -  dally.v.04\n",
            "Definition -  consider not very seriously\n",
            "example -  ['He is trifling with her', 'She plays with the thought of moving to Tasmania']\n",
            "Hypernyms -  [Synset('consider.v.03')]\n",
            "Hyponyms :-  []\n",
            "Lemmas :-  ['dally', 'trifle', 'play']\n",
            "\n",
            "\n",
            "Name -  play.v.22\n",
            "Definition -  be received or accepted or interpreted in a specific way\n",
            "example -  [\"This speech didn't play well with the American public\", 'His remarks played to the suspicions of the committee']\n",
            "Hypernyms -  []\n",
            "Hyponyms :-  []\n",
            "Lemmas :-  ['play']\n",
            "\n",
            "\n",
            "Name -  dally.v.01\n",
            "Definition -  behave carelessly or indifferently\n",
            "example -  [\"Play about with a young girl's affection\"]\n",
            "Hypernyms -  [Synset('act.v.01')]\n",
            "Hyponyms :-  []\n",
            "Lemmas :-  ['dally', 'toy', 'play', 'flirt']\n",
            "\n",
            "\n",
            "Name -  play.v.24\n",
            "Definition -  cause to move or operate freely within a bounded space\n",
            "example -  ['The engine has a wheel that is playing in a rack']\n",
            "Hypernyms -  [Synset('move.v.02')]\n",
            "Hyponyms :-  []\n",
            "Lemmas :-  ['play']\n",
            "\n",
            "\n",
            "Name -  act.v.10\n",
            "Definition -  perform on a stage or theater\n",
            "example -  ['She acts in this play', \"He acted in `Julius Caesar'\", \"I played in `A Christmas Carol'\"]\n",
            "Hypernyms -  [Synset('perform.v.03')]\n",
            "Hyponyms :-  [Synset('mime.v.02'), Synset('overact.v.01'), Synset('stooge.v.02'), Synset('underact.v.01')]\n",
            "Lemmas :-  ['act', 'play', 'roleplay', 'playact']\n",
            "\n",
            "\n",
            "Name -  play.v.26\n",
            "Definition -  be performed or presented for public viewing\n",
            "example -  [\"What's playing in the local movie theater?\", \"`Cats' has been playing on Broadway for many years\"]\n",
            "Hypernyms -  []\n",
            "Hyponyms :-  [Synset('debut.v.02')]\n",
            "Lemmas :-  ['play']\n",
            "\n",
            "\n",
            "Name -  bring.v.03\n",
            "Definition -  cause to happen or to occur as a consequence\n",
            "example -  ['I cannot work a miracle', 'wreak havoc', 'bring comments', 'play a joke', 'The rain brought relief to the drought-stricken area']\n",
            "Hypernyms -  [Synset('make.v.03')]\n",
            "Hyponyms :-  []\n",
            "Lemmas :-  ['bring', 'work', 'play', 'wreak', 'make_for']\n",
            "\n",
            "\n",
            "Name -  play.v.28\n",
            "Definition -  discharge or direct or be discharged or directed as if in a continuous stream\n",
            "example -  ['play water from a hose', 'The fountains played all day']\n",
            "Hypernyms -  [Synset('discharge.v.02')]\n",
            "Hyponyms :-  []\n",
            "Lemmas :-  ['play']\n",
            "\n",
            "\n",
            "Name -  play.v.29\n",
            "Definition -  make bets\n",
            "example -  ['Play the races', 'play the casinos in Trouville']\n",
            "Hypernyms -  [Synset('bet.v.02')]\n",
            "Hyponyms :-  []\n",
            "Lemmas :-  ['play']\n",
            "\n",
            "\n",
            "Name -  bet.v.02\n",
            "Definition -  stake on the outcome of an issue\n",
            "example -  ['I bet $100 on that new horse', 'She played all her money on the dark horse']\n",
            "Hypernyms -  [Synset('gamble.v.02')]\n",
            "Hyponyms :-  [Synset('bet_on.v.01'), Synset('play.v.29'), Synset('raise.v.17'), Synset('see.v.23')]\n",
            "Lemmas :-  ['bet', 'wager', 'play']\n",
            "\n",
            "\n",
            "Name -  play.v.31\n",
            "Definition -  shoot or hit in a particular manner\n",
            "example -  ['She played a good backhand last night']\n",
            "Hypernyms -  [Synset('hit.v.01')]\n",
            "Hyponyms :-  [Synset('hook.v.10')]\n",
            "Lemmas :-  ['play']\n",
            "\n",
            "\n",
            "Name -  play.v.32\n",
            "Definition -  use or move\n",
            "example -  ['I had to play my queen']\n",
            "Hypernyms -  [Synset('use.v.01')]\n",
            "Hyponyms :-  [Synset('promote.v.05')]\n",
            "Lemmas :-  ['play']\n",
            "\n",
            "\n",
            "Name -  play.v.33\n",
            "Definition -  employ in a game or in a specific position\n",
            "example -  ['They played him on first base']\n",
            "Hypernyms -  [Synset('use.v.01')]\n",
            "Hyponyms :-  []\n",
            "Lemmas :-  ['play']\n",
            "\n",
            "\n",
            "Name -  meet.v.10\n",
            "Definition -  contend against an opponent in a sport, game, or battle\n",
            "example -  ['Princeton plays Yale this weekend', 'Charlie likes to play Mary']\n",
            "Hypernyms -  []\n",
            "Hyponyms :-  [Synset('confront.v.01'), Synset('replay.v.03')]\n",
            "Lemmas :-  ['meet', 'encounter', 'play', 'take_on']\n",
            "\n",
            "\n",
            "Name -  play.v.35\n",
            "Definition -  exhaust by allowing to pull on the line\n",
            "example -  ['play a hooked fish']\n",
            "Hypernyms -  [Synset('exhaust.v.01')]\n",
            "Hyponyms :-  []\n",
            "Lemmas :-  ['play']\n",
            "\n",
            "\n"
          ],
          "name": "stdout"
        }
      ]
    },
    {
      "cell_type": "code",
      "metadata": {
        "colab": {
          "base_uri": "https://localhost:8080/"
        },
        "id": "W3ROU74tUBvX",
        "outputId": "1eb2e7e7-fb31-409b-f96a-2d267a949231"
      },
      "source": [
        "#### Below Code is for All words of \"Play\"\n",
        "\n",
        "syn = wordnet.synsets('play')\n",
        "\n",
        "data = []\n",
        "for x in range(len(syn)):\n",
        "  hypernyms = syn[x].hypernyms()\n",
        "  lemmas = []\n",
        "  for lemma in syn[x].lemmas():\n",
        "    lemmas.append(lemma.name())\n",
        "  for y in range(len(hypernyms)):\n",
        "    data.append([syn[x].name(), syn[x].definition(), hypernyms[y], syn[x].hyponyms(), lemmas])\n",
        "\n",
        "print(tabulate(data, headers=[\"name\", \"definition\", \"hypernyms\", \"hyponyms\", \"lemmas\"]))\n",
        "\n",
        "# print(\"formatted table --- \")\n",
        "# pd.set_option('display.expand_frame_repr', False)\n",
        "# df = pd.DataFrame(data, columns = ['Name',\"definition\", \"hypernyms\", \"hyponyms\"])\n",
        "# print(df)"
      ],
      "execution_count": null,
      "outputs": [
        {
          "output_type": "stream",
          "text": [
            "name                 definition                                                                                                           hypernyms                            hyponyms                                                                                                                                                                                                                                                                                                                                                                                                                                                                                                                                                                                                                                                                                                                                                                                                                                                                                  lemmas\n",
            "-------------------  -------------------------------------------------------------------------------------------------------------------  -----------------------------------  ----------------------------------------------------------------------------------------------------------------------------------------------------------------------------------------------------------------------------------------------------------------------------------------------------------------------------------------------------------------------------------------------------------------------------------------------------------------------------------------------------------------------------------------------------------------------------------------------------------------------------------------------------------------------------------------------------------------------------------------------------------------------------------------------------------------------------------------------------------------------------------------  ----------------------------------------------\n",
            "play.n.01            a dramatic work intended for performance by actors on a stage                                                        Synset('dramatic_composition.n.01')  [Synset('grand_guignol.n.01'), Synset('miracle_play.n.01'), Synset('morality_play.n.01'), Synset('mystery_play.n.01'), Synset('passion_play.n.01'), Synset('playlet.n.01'), Synset('satyr_play.n.01'), Synset('theater_of_the_absurd.n.01')]                                                                                                                                                                                                                                                                                                                                                                                                                                                                                                                                                                                                                                              ['play', 'drama', 'dramatic_play']\n",
            "play.n.02            a theatrical performance of a drama                                                                                  Synset('show.n.03')                  [Synset('curtain_raiser.n.02'), Synset('musical.n.01')]                                                                                                                                                                                                                                                                                                                                                                                                                                                                                                                                                                                                                                                                                                                                                                                                                                   ['play']\n",
            "play.n.03            a preset plan of action in team sports                                                                               Synset('plan_of_action.n.01')        [Synset('basketball_play.n.01'), Synset('football_play.n.01'), Synset('knock_on.n.01'), Synset('power_play.n.03'), Synset('razzle-dazzle.n.01')]                                                                                                                                                                                                                                                                                                                                                                                                                                                                                                                                                                                                                                                                                                                                          ['play']\n",
            "maneuver.n.03        a deliberate coordinated movement requiring dexterity and skill                                                      Synset('motion.n.06')                [Synset('assist.n.02'), Synset('ball_hawking.n.01'), Synset('baseball_play.n.01'), Synset('completion.n.01'), Synset('figure.n.13'), Synset('footwork.n.01'), Synset('icing.n.03'), Synset('jugglery.n.02'), Synset('mousetrap.n.02'), Synset('obstruction.n.05'), Synset('safety_blitz.n.01'), Synset('stroke.n.01'), Synset('takeaway.n.03')]                                                                                                                                                                                                                                                                                                                                                                                                                                                                                                                                           ['maneuver', 'manoeuvre', 'play']\n",
            "play.n.05            a state in which action is feasible                                                                                  Synset('action.n.02')                []                                                                                                                                                                                                                                                                                                                                                                                                                                                                                                                                                                                                                                                                                                                                                                                                                                                                                        ['play']\n",
            "play.n.06            utilization or exercise                                                                                              Synset('use.n.01')                   []                                                                                                                                                                                                                                                                                                                                                                                                                                                                                                                                                                                                                                                                                                                                                                                                                                                                                        ['play']\n",
            "bid.n.02             an attempt to get something                                                                                          Synset('attempt.n.01')               []                                                                                                                                                                                                                                                                                                                                                                                                                                                                                                                                                                                                                                                                                                                                                                                                                                                                                        ['bid', 'play']\n",
            "play.n.08            activity by children that is guided more by imagination than by fixed rules                                          Synset('diversion.n.01')             [Synset('doctor.n.03'), Synset('fireman.n.01'), Synset('house.n.07')]                                                                                                                                                                                                                                                                                                                                                                                                                                                                                                                                                                                                                                                                                                                                                                                                                     ['play', \"child's_play\"]\n",
            "playing_period.n.01  (in games or plays or other performances) the time during which play proceeds                                        Synset('measure.n.02')               [Synset('hole.n.03'), Synset('set.n.08')]                                                                                                                                                                                                                                                                                                                                                                                                                                                                                                                                                                                                                                                                                                                                                                                                                                                 ['playing_period', 'period_of_play', 'play']\n",
            "free_rein.n.01       the removal of constraints                                                                                           Synset('freedom.n.01')               []                                                                                                                                                                                                                                                                                                                                                                                                                                                                                                                                                                                                                                                                                                                                                                                                                                                                                        ['free_rein', 'play']\n",
            "shimmer.n.01         a weak and tremulous light                                                                                           Synset('change.n.01')                []                                                                                                                                                                                                                                                                                                                                                                                                                                                                                                                                                                                                                                                                                                                                                                                                                                                                                        ['shimmer', 'play']\n",
            "fun.n.02             verbal wit or mockery (often at another's expense but not to be taken seriously)                                     Synset('wit.n.01')                   [Synset('drollery.n.01'), Synset('jocosity.n.01'), Synset('pun.n.01'), Synset('waggery.n.01')]                                                                                                                                                                                                                                                                                                                                                                                                                                                                                                                                                                                                                                                                                                                                                                                            ['fun', 'play', 'sport']\n",
            "looseness.n.05       movement or space for movement                                                                                       Synset('movability.n.01')            [Synset('slack.n.05'), Synset('wiggliness.n.01')]                                                                                                                                                                                                                                                                                                                                                                                                                                                                                                                                                                                                                                                                                                                                                                                                                                         ['looseness', 'play']\n",
            "play.n.14            gay or light-hearted recreational activity for diversion or amusement                                                Synset('diversion.n.01')             [Synset('flirt.n.02'), Synset('folly.n.04'), Synset('game.n.11'), Synset('horseplay.n.01'), Synset('teasing.n.02'), Synset('word_play.n.01')]                                                                                                                                                                                                                                                                                                                                                                                                                                                                                                                                                                                                                                                                                                                                             ['play', 'frolic', 'romp', 'gambol', 'caper']\n",
            "turn.n.03            (game) the activity of doing something in an agreed succession                                                       Synset('activity.n.01')              [Synset('attack.n.02'), Synset('bat.n.02'), Synset('down.n.02'), Synset('innings.n.01'), Synset('lead.n.17'), Synset('move.n.05'), Synset('ruff.n.04'), Synset('start.n.03'), Synset('trick.n.07')]                                                                                                                                                                                                                                                                                                                                                                                                                                                                                                                                                                                                                                                                                       ['turn', 'play']\n",
            "gambling.n.01        the act of playing for stakes in the hope of winning (including the payment of a price for a chance to win a prize)  Synset('diversion.n.01')             [Synset('bet.n.02'), Synset('game_of_chance.n.01'), Synset('sporting_life.n.01'), Synset('throw.n.05')]                                                                                                                                                                                                                                                                                                                                                                                                                                                                                                                                                                                                                                                                                                                                                                                   ['gambling', 'gaming', 'play']\n",
            "gambling.n.01        the act of playing for stakes in the hope of winning (including the payment of a price for a chance to win a prize)  Synset('vice.n.02')                  [Synset('bet.n.02'), Synset('game_of_chance.n.01'), Synset('sporting_life.n.01'), Synset('throw.n.05')]                                                                                                                                                                                                                                                                                                                                                                                                                                                                                                                                                                                                                                                                                                                                                                                   ['gambling', 'gaming', 'play']\n",
            "play.n.17            the act using a sword (or other weapon) vigorously and skillfully                                                    Synset('action.n.01')                [Synset('fencing.n.03')]                                                                                                                                                                                                                                                                                                                                                                                                                                                                                                                                                                                                                                                                                                                                                                                                                                                                  ['play', 'swordplay']\n",
            "play.v.01            participate in games or sport                                                                                        Synset('compete.v.01')               [Synset('ace.v.03'), Synset('backstop.v.01'), Synset('bandy.v.01'), Synset('bid.v.04'), Synset('bowl.v.03'), Synset('catch.v.27'), Synset('complete.v.04'), Synset('cradle.v.06'), Synset('cricket.v.01'), Synset('croquet.v.02'), Synset('curl.v.05'), Synset('develop.v.17'), Synset('develop.v.18'), Synset('die.v.08'), Synset('exit.v.02'), Synset('face_off.v.01'), Synset('field.v.02'), Synset('foul.v.04'), Synset('fullback.v.01'), Synset('fumble.v.05'), Synset('gamble.v.02'), Synset('golf.v.01'), Synset('line_up.v.06'), Synset('misplay.v.02'), Synset('play_out.v.03'), Synset('put_out.v.08'), Synset('putt.v.02'), Synset('quarterback.v.01'), Synset('replay.v.04'), Synset('revoke.v.01'), Synset('snooker.v.02'), Synset('start.v.11'), Synset('tee_off.v.01'), Synset('teeter-totter.v.01'), Synset('unblock.v.02'), Synset('volley.v.04'), Synset('walk.v.05')]  ['play']\n",
            "play.v.02            act or have an effect in a specified way or with a specific effect or outcome                                        Synset('act.v.01')                   []                                                                                                                                                                                                                                                                                                                                                                                                                                                                                                                                                                                                                                                                                                                                                                                                                                                                                        ['play']\n",
            "play.v.03            play on an instrument                                                                                                Synset('perform.v.03')               [Synset('bow.v.05'), Synset('busk.v.01'), Synset('play_along.v.02'), Synset('sound_off.v.02'), Synset('swing.v.12'), Synset('symphonize.v.01')]                                                                                                                                                                                                                                                                                                                                                                                                                                                                                                                                                                                                                                                                                                                                           ['play']\n",
            "act.v.03             play a role or part                                                                                                  Synset('re-create.v.01')             [Synset('act_out.v.01'), Synset('emote.v.01'), Synset('enact.v.02'), Synset('impersonate.v.01'), Synset('make.v.42'), Synset('parody.v.01'), Synset('support.v.09')]                                                                                                                                                                                                                                                                                                                                                                                                                                                                                                                                                                                                                                                                                                                      ['act', 'play', 'represent']\n",
            "play.v.05            be at play; be engaged in playful activity; amuse oneself in a way characteristic of children                        Synset('act.v.08')                   [Synset('dabble.v.02'), Synset('frolic.v.01'), Synset('horse_around.v.01'), Synset('roughhouse.v.01')]                                                                                                                                                                                                                                                                                                                                                                                                                                                                                                                                                                                                                                                                                                                                                                                    ['play']\n",
            "play.v.06            replay (as a melody)                                                                                                 Synset('re-create.v.01')             [Synset('bang_out.v.01'), Synset('bugle.v.01'), Synset('fiddle.v.04'), Synset('jazz.v.01'), Synset('misplay.v.01'), Synset('modulate.v.01'), Synset('prelude.v.02'), Synset('rag.v.03'), Synset('replay.v.02'), Synset('reprise.v.01'), Synset('riff.v.02'), Synset('slur.v.01'), Synset('tongue.v.01')]                                                                                                                                                                                                                                                                                                                                                                                                                                                                                                                                                                                  ['play', 'spiel']\n",
            "play.v.07            perform music on (a musical instrument)                                                                              Synset('sound.v.06')                 [Synset('beat.v.19'), Synset('chord.v.01'), Synset('clarion.v.01'), Synset('drum.v.02'), Synset('fiddle.v.03'), Synset('harp.v.02'), Synset('pipe.v.03'), Synset('register.v.08'), Synset('skirl.v.02'), Synset('trumpet.v.02'), Synset('tweedle.v.02')]                                                                                                                                                                                                                                                                                                                                                                                                                                                                                                                                                                                                                                  ['play']\n",
            "act.v.05             pretend to have certain qualities or state of mind                                                                   Synset('act.v.02')                   []                                                                                                                                                                                                                                                                                                                                                                                                                                                                                                                                                                                                                                                                                                                                                                                                                                                                                        ['act', 'play', 'act_as']\n",
            "play.v.09            move or seem to move quickly, lightly, or irregularly                                                                Synset('travel.v.01')                []                                                                                                                                                                                                                                                                                                                                                                                                                                                                                                                                                                                                                                                                                                                                                                                                                                                                                        ['play']\n",
            "play.v.10            bet or wager (money)                                                                                                 Synset('gamble.v.02')                [Synset('underplay.v.02')]                                                                                                                                                                                                                                                                                                                                                                                                                                                                                                                                                                                                                                                                                                                                                                                                                                                                ['play']\n",
            "play.v.12            pretend to be somebody in the framework of a game or playful activity                                                Synset('simulate.v.03')              []                                                                                                                                                                                                                                                                                                                                                                                                                                                                                                                                                                                                                                                                                                                                                                                                                                                                                        ['play']\n",
            "play.v.13            emit recorded sound                                                                                                  Synset('sound.v.03')                 []                                                                                                                                                                                                                                                                                                                                                                                                                                                                                                                                                                                                                                                                                                                                                                                                                                                                                        ['play']\n",
            "play.v.14            perform on a certain location                                                                                        Synset('perform.v.03')               []                                                                                                                                                                                                                                                                                                                                                                                                                                                                                                                                                                                                                                                                                                                                                                                                                                                                                        ['play']\n",
            "play.v.15            put (a card or piece) into play during a game, or act strategically as if in a card game                             Synset('deploy.v.01')                [Synset('cover.v.23'), Synset('declare.v.06'), Synset('pitch.v.11')]                                                                                                                                                                                                                                                                                                                                                                                                                                                                                                                                                                                                                                                                                                                                                                                                                      ['play']\n",
            "play.v.16            engage in an activity as if it were a game rather than take it seriously                                             Synset('act.v.02')                   []                                                                                                                                                                                                                                                                                                                                                                                                                                                                                                                                                                                                                                                                                                                                                                                                                                                                                        ['play', 'toy']\n",
            "play.v.17            behave in a certain way                                                                                              Synset('act.v.01')                   []                                                                                                                                                                                                                                                                                                                                                                                                                                                                                                                                                                                                                                                                                                                                                                                                                                                                                        ['play']\n",
            "toy.v.02             manipulate manually or in one's mind or imagination                                                                  Synset('manipulate.v.02')            [Synset('put_out.v.07')]                                                                                                                                                                                                                                                                                                                                                                                                                                                                                                                                                                                                                                                                                                                                                                                                                                                                  ['toy', 'fiddle', 'diddle', 'play']\n",
            "play.v.20            use to one's advantage                                                                                               Synset('exploit.v.01')               []                                                                                                                                                                                                                                                                                                                                                                                                                                                                                                                                                                                                                                                                                                                                                                                                                                                                                        ['play']\n",
            "dally.v.04           consider not very seriously                                                                                          Synset('consider.v.03')              []                                                                                                                                                                                                                                                                                                                                                                                                                                                                                                                                                                                                                                                                                                                                                                                                                                                                                        ['dally', 'trifle', 'play']\n",
            "dally.v.01           behave carelessly or indifferently                                                                                   Synset('act.v.01')                   []                                                                                                                                                                                                                                                                                                                                                                                                                                                                                                                                                                                                                                                                                                                                                                                                                                                                                        ['dally', 'toy', 'play', 'flirt']\n",
            "play.v.24            cause to move or operate freely within a bounded space                                                               Synset('move.v.02')                  []                                                                                                                                                                                                                                                                                                                                                                                                                                                                                                                                                                                                                                                                                                                                                                                                                                                                                        ['play']\n",
            "act.v.10             perform on a stage or theater                                                                                        Synset('perform.v.03')               [Synset('mime.v.02'), Synset('overact.v.01'), Synset('stooge.v.02'), Synset('underact.v.01')]                                                                                                                                                                                                                                                                                                                                                                                                                                                                                                                                                                                                                                                                                                                                                                                             ['act', 'play', 'roleplay', 'playact']\n",
            "bring.v.03           cause to happen or to occur as a consequence                                                                         Synset('make.v.03')                  []                                                                                                                                                                                                                                                                                                                                                                                                                                                                                                                                                                                                                                                                                                                                                                                                                                                                                        ['bring', 'work', 'play', 'wreak', 'make_for']\n",
            "play.v.28            discharge or direct or be discharged or directed as if in a continuous stream                                        Synset('discharge.v.02')             []                                                                                                                                                                                                                                                                                                                                                                                                                                                                                                                                                                                                                                                                                                                                                                                                                                                                                        ['play']\n",
            "play.v.29            make bets                                                                                                            Synset('bet.v.02')                   []                                                                                                                                                                                                                                                                                                                                                                                                                                                                                                                                                                                                                                                                                                                                                                                                                                                                                        ['play']\n",
            "bet.v.02             stake on the outcome of an issue                                                                                     Synset('gamble.v.02')                [Synset('bet_on.v.01'), Synset('play.v.29'), Synset('raise.v.17'), Synset('see.v.23')]                                                                                                                                                                                                                                                                                                                                                                                                                                                                                                                                                                                                                                                                                                                                                                                                    ['bet', 'wager', 'play']\n",
            "play.v.31            shoot or hit in a particular manner                                                                                  Synset('hit.v.01')                   [Synset('hook.v.10')]                                                                                                                                                                                                                                                                                                                                                                                                                                                                                                                                                                                                                                                                                                                                                                                                                                                                     ['play']\n",
            "play.v.32            use or move                                                                                                          Synset('use.v.01')                   [Synset('promote.v.05')]                                                                                                                                                                                                                                                                                                                                                                                                                                                                                                                                                                                                                                                                                                                                                                                                                                                                  ['play']\n",
            "play.v.33            employ in a game or in a specific position                                                                           Synset('use.v.01')                   []                                                                                                                                                                                                                                                                                                                                                                                                                                                                                                                                                                                                                                                                                                                                                                                                                                                                                        ['play']\n",
            "play.v.35            exhaust by allowing to pull on the line                                                                              Synset('exhaust.v.01')               []                                                                                                                                                                                                                                                                                                                                                                                                                                                                                                                                                                                                                                                                                                                                                                                                                                                                                        ['play']\n"
          ],
          "name": "stdout"
        }
      ]
    },
    {
      "cell_type": "code",
      "metadata": {
        "id": "aZoocGF3a5X9",
        "colab": {
          "base_uri": "https://localhost:8080/"
        },
        "outputId": "b22d8dc0-1185-4790-cbf8-942f0ff73573"
      },
      "source": [
        "#   f. Find Synonyms for word”fun”\n",
        "\n",
        "syn = wordnet.synsets('fun')\n",
        "\n",
        "synonyms = []\n",
        "\n",
        "for x in range(len(syn)):\n",
        "    lemmas = syn[x].lemmas()\n",
        "    # print(lemmas)\n",
        "    for y in range(len(lemmas)):\n",
        "      # print(lemmas[y].name())\n",
        "      lemma_name = lemmas[y].name();\n",
        "      if lemma_name not in synonyms:\n",
        "        synonyms.append(lemma_name)    \n",
        "\n",
        "print(synonyms)"
      ],
      "execution_count": null,
      "outputs": [
        {
          "output_type": "stream",
          "text": [
            "['fun', 'merriment', 'playfulness', 'play', 'sport']\n"
          ],
          "name": "stdout"
        }
      ]
    },
    {
      "cell_type": "code",
      "metadata": {
        "id": "4DfD4THadmjn",
        "colab": {
          "base_uri": "https://localhost:8080/"
        },
        "outputId": "405b75eb-7f1a-4ab3-b053-61a1d3fc777c"
      },
      "source": [
        "#  g.Find Antonyms for word “Natural”\n",
        "\n",
        "syn = wordnet.synsets('Natural')\n",
        "\n",
        "antonyms = []\n",
        "\n",
        "for x in range(len(syn)):\n",
        "    lemmas = syn[x].lemmas()\n",
        "    # print(lemmas)\n",
        "    for y in range(len(lemmas)):\n",
        "      # print(lemmas[y].name())\n",
        "      ants = lemmas[y].antonyms();\n",
        "      for z in range(len(ants)):\n",
        "        name = ants[z].name()\n",
        "        if name not in antonyms:\n",
        "          antonyms.append(name)    \n",
        "\n",
        "print(antonyms)\n"
      ],
      "execution_count": null,
      "outputs": [
        {
          "output_type": "stream",
          "text": [
            "['unnatural', 'artificial', 'supernatural', 'flat', 'sharp']\n"
          ],
          "name": "stdout"
        }
      ]
    },
    {
      "cell_type": "code",
      "metadata": {
        "id": "Wszb9YyZhC4F"
      },
      "source": [
        "########################################"
      ],
      "execution_count": null,
      "outputs": []
    },
    {
      "cell_type": "code",
      "metadata": {
        "id": "ZatnE1KshE-d"
      },
      "source": [
        "#\n",
        "# Dataset 2:\n",
        "\n",
        "# J im and Pam traveled by bus.\n",
        "# The train was late.\n",
        "# The flight (4 Marks) was full. Traveling by flight is expensive.\n",
        "# Write  a program for feature extraction for above dataset with “Bag Of Word” method and  print the total words with their index .(5)\n",
        "#"
      ],
      "execution_count": null,
      "outputs": []
    },
    {
      "cell_type": "code",
      "metadata": {
        "id": "HCZw4-31hN1G",
        "colab": {
          "base_uri": "https://localhost:8080/"
        },
        "outputId": "e38193d9-cb9c-4e7f-d1c1-4c22ec20c59f"
      },
      "source": [
        "from sklearn.feature_extraction.text import CountVectorizer\n",
        "\n",
        "sentences = [\"J im and Pam traveled by bus.\",\n",
        "              \"The train was late.\",\n",
        "              \"The flight (4 Marks) was full. Traveling by flight is expensive.\"]\n",
        "\n",
        "cv = CountVectorizer()\n",
        "# cv.fit_transform().toArray()\n",
        "bagOfWords = cv.fit_transform(sentences).toarray()\n",
        "\n",
        "print(cv.vocabulary_)\n",
        "print(\"\\n\")\n",
        "\n",
        "print(cv.get_feature_names())\n",
        "print(\"\\n\")\n",
        "print(\"\\033[1;52m Bag of Words for giving sentences  \\n\")\n",
        "\n",
        "print(bagOfWords)\n",
        "print(\"\\n\")\n",
        "\n",
        "print(\"\\033[1;32m Bag of Words in table format  \\n\")\n",
        "\n",
        "pd.set_option('display.expand_frame_repr', False)\n",
        "df = pd.DataFrame(bagOfWords, columns = cv.get_feature_names())\n",
        "\n",
        "print(df)"
      ],
      "execution_count": null,
      "outputs": [
        {
          "output_type": "stream",
          "text": [
            "{'im': 6, 'and': 0, 'pam': 10, 'traveled': 13, 'by': 2, 'bus': 1, 'the': 11, 'train': 12, 'was': 15, 'late': 8, 'flight': 4, 'marks': 9, 'full': 5, 'traveling': 14, 'is': 7, 'expensive': 3}\n",
            "\n",
            "\n",
            "['and', 'bus', 'by', 'expensive', 'flight', 'full', 'im', 'is', 'late', 'marks', 'pam', 'the', 'train', 'traveled', 'traveling', 'was']\n",
            "\n",
            "\n",
            "\u001b[1;52m Bag of Words for giving sentences  \n",
            "\n",
            "[[1 1 1 0 0 0 1 0 0 0 1 0 0 1 0 0]\n",
            " [0 0 0 0 0 0 0 0 1 0 0 1 1 0 0 1]\n",
            " [0 0 1 1 2 1 0 1 0 1 0 1 0 0 1 1]]\n",
            "\n",
            "\n",
            "\u001b[1;32m Bag of Words in table format  \n",
            "\n",
            "   and  bus  by  expensive  flight  full  im  is  late  marks  pam  the  train  traveled  traveling  was\n",
            "0    1    1   1          0       0     0   1   0     0      0    1    0      0         1          0    0\n",
            "1    0    0   0          0       0     0   0   0     1      0    0    1      1         0          0    1\n",
            "2    0    0   1          1       2     1   0   1     0      1    0    1      0         0          1    1\n"
          ],
          "name": "stdout"
        }
      ]
    },
    {
      "cell_type": "code",
      "metadata": {
        "id": "4h_Jc7vGp2Jt",
        "colab": {
          "base_uri": "https://localhost:8080/"
        },
        "outputId": "2b5e7fa5-ac3f-4d43-d4e0-6a680cfd7b48"
      },
      "source": [
        "# Dataset 3:\n",
        "# 1: This is the first document.\n",
        "\n",
        "# 2: This document is the second document.\n",
        "\n",
        "# 3: Write a program for feature extraction for above dataset with “TF-IDF”  method and print wordvector. (5)\n",
        "\n",
        "#Import required libraries :\n",
        "from sklearn.feature_extraction.text import TfidfVectorizer\n",
        "\n",
        "#Sentences for analysis :\n",
        "sentences = ['This is the first document.','This document is the second document.']\n",
        "\n",
        "#Create an object :\n",
        "vectorizer = TfidfVectorizer(norm = None)\n",
        "\n",
        "#Generating output for TF_IDF :\n",
        "X = vectorizer.fit_transform(sentences).toarray()\n",
        "\n",
        "#Total words with their index in model :\n",
        "print(vectorizer.vocabulary_)\n",
        "print(\"\\n\")\n",
        "\n",
        "#Features :\n",
        "print(vectorizer.get_feature_names())\n",
        "print(\"\\n\")\n",
        "\n",
        "#Show the output :\n",
        "print(\"TF_IDF matrix --- \\n\")\n",
        "print(X)\n",
        "print(\"\\n\")\n",
        "\n",
        "print(\"\\033[1;32m TF_IDF in table format ---  \\n\")\n",
        "pd.set_option('display.expand_frame_repr', False)\n",
        "df = pd.DataFrame(X, columns = vectorizer.get_feature_names())\n",
        "print(df.to_string(index=False))"
      ],
      "execution_count": null,
      "outputs": [
        {
          "output_type": "stream",
          "text": [
            "{'this': 5, 'is': 2, 'the': 4, 'first': 1, 'document': 0, 'second': 3}\n",
            "\n",
            "\n",
            "['document', 'first', 'is', 'second', 'the', 'this']\n",
            "\n",
            "\n",
            "TF_IDF matrix --- \n",
            "\n",
            "[[1.         1.40546511 1.         0.         1.         1.        ]\n",
            " [2.         0.         1.         1.40546511 1.         1.        ]]\n",
            "\n",
            "\n",
            "\u001b[1;32m TF_IDF in table format ---  \n",
            "\n",
            " document     first   is    second  the  this\n",
            "      1.0  1.405465  1.0  0.000000  1.0   1.0\n",
            "      2.0  0.000000  1.0  1.405465  1.0   1.0\n"
          ],
          "name": "stdout"
        }
      ]
    },
    {
      "cell_type": "code",
      "metadata": {
        "id": "Y9w7wKp0vhlN",
        "colab": {
          "base_uri": "https://localhost:8080/"
        },
        "outputId": "6911eaf4-3d42-464a-eee4-a4c0ab9f462c"
      },
      "source": [
        "### to install googletrans\n",
        "\n",
        "!pip install googletrans==4.0.0rc1"
      ],
      "execution_count": null,
      "outputs": [
        {
          "output_type": "stream",
          "text": [
            "Requirement already satisfied: googletrans==4.0.0rc1 in /usr/local/lib/python3.7/dist-packages (4.0.0rc1)\n",
            "Requirement already satisfied: httpx==0.13.3 in /usr/local/lib/python3.7/dist-packages (from googletrans==4.0.0rc1) (0.13.3)\n",
            "Requirement already satisfied: certifi in /usr/local/lib/python3.7/dist-packages (from httpx==0.13.3->googletrans==4.0.0rc1) (2021.5.30)\n",
            "Requirement already satisfied: httpcore==0.9.* in /usr/local/lib/python3.7/dist-packages (from httpx==0.13.3->googletrans==4.0.0rc1) (0.9.1)\n",
            "Requirement already satisfied: hstspreload in /usr/local/lib/python3.7/dist-packages (from httpx==0.13.3->googletrans==4.0.0rc1) (2021.7.5)\n",
            "Requirement already satisfied: sniffio in /usr/local/lib/python3.7/dist-packages (from httpx==0.13.3->googletrans==4.0.0rc1) (1.2.0)\n",
            "Requirement already satisfied: rfc3986<2,>=1.3 in /usr/local/lib/python3.7/dist-packages (from httpx==0.13.3->googletrans==4.0.0rc1) (1.5.0)\n",
            "Requirement already satisfied: idna==2.* in /usr/local/lib/python3.7/dist-packages (from httpx==0.13.3->googletrans==4.0.0rc1) (2.10)\n",
            "Requirement already satisfied: chardet==3.* in /usr/local/lib/python3.7/dist-packages (from httpx==0.13.3->googletrans==4.0.0rc1) (3.0.4)\n",
            "Requirement already satisfied: h2==3.* in /usr/local/lib/python3.7/dist-packages (from httpcore==0.9.*->httpx==0.13.3->googletrans==4.0.0rc1) (3.2.0)\n",
            "Requirement already satisfied: h11<0.10,>=0.8 in /usr/local/lib/python3.7/dist-packages (from httpcore==0.9.*->httpx==0.13.3->googletrans==4.0.0rc1) (0.9.0)\n",
            "Requirement already satisfied: hyperframe<6,>=5.2.0 in /usr/local/lib/python3.7/dist-packages (from h2==3.*->httpcore==0.9.*->httpx==0.13.3->googletrans==4.0.0rc1) (5.2.0)\n",
            "Requirement already satisfied: hpack<4,>=3.0 in /usr/local/lib/python3.7/dist-packages (from h2==3.*->httpcore==0.9.*->httpx==0.13.3->googletrans==4.0.0rc1) (3.0.0)\n"
          ],
          "name": "stdout"
        }
      ]
    },
    {
      "cell_type": "code",
      "metadata": {
        "id": "D2ucui3RuP2Y",
        "colab": {
          "base_uri": "https://localhost:8080/"
        },
        "outputId": "b54db773-0b1d-42b8-b0df-936e1bb4e128"
      },
      "source": [
        "##### 4: Translate the German sentence to English using Googletrans app (Use NLTK corpus)\n",
        "\n",
        "# from google_trans_new import google_translator  \n",
        "import IPython\n",
        "from google.colab import widgets, output\n",
        "import ipywidgets\n",
        "from ipywidgets import interact\n",
        "from googletrans import Translator\n",
        "from IPython.display import display, clear_output\n",
        "\n",
        "translator = Translator()\n",
        "\n",
        "def germanToEnglish(german_sentence):\n",
        "  result = translator.translate(german_sentence, src='de', dest='en')\n",
        "  print('given German Sentence - ', result.origin)\n",
        "  print('Translate into Engligh - ', result.text, '\\n')\n",
        "\n",
        "germanToEnglish('eins zwei drei')\n",
        "germanToEnglish('pferd')\n",
        "germanToEnglish('Lass uns Party machen')\n",
        "germanToEnglish('lass uns Data Science studieren study')"
      ],
      "execution_count": null,
      "outputs": [
        {
          "output_type": "stream",
          "text": [
            "given German Sentence -  eins zwei drei\n",
            "Translate into Engligh -  one two Three \n",
            "\n",
            "given German Sentence -  pferd\n",
            "Translate into Engligh -  horse \n",
            "\n",
            "given German Sentence -  Lass uns Party machen\n",
            "Translate into Engligh -  Let's have a party \n",
            "\n",
            "given German Sentence -  lass uns Data Science studieren study\n",
            "Translate into Engligh -  Let's study Data Science Study \n",
            "\n"
          ],
          "name": "stdout"
        }
      ]
    },
    {
      "cell_type": "code",
      "metadata": {
        "colab": {
          "base_uri": "https://localhost:8080/",
          "height": 196
        },
        "id": "erSGvYsqM6KN",
        "outputId": "c15a098e-ec78-428b-da4e-4c81c56a4bc8"
      },
      "source": [
        "display(IPython.display.HTML('''\n",
        "    German Text:   \n",
        "    <br>\n",
        "    <textarea id=\"germanText\" name=\"germanText\" rows=\"5\" cols=\"40\">lass uns Data Science studieren, eins zwei drei</textarea>\n",
        "    <br>\n",
        "    <button id='button' style=\"\">Translate</button>\n",
        "    <lable id=\"englishText\" />\n",
        "    <script>\n",
        "      document.querySelector('#button').onclick = () => {        \n",
        "        google.colab.kernel.invokeFunction('notebook.TranslateGermanEnglish', [document.querySelector('#germanText').value], {});\n",
        "      };\n",
        "    </script>\n",
        "    '''))\n",
        "\n",
        "def translate_german_english(german_sentence):  \n",
        "  result = translator.translate(german_sentence, src='de', dest='en')    \n",
        "  with output.redirect_to_element('#englishText'):\n",
        "    print(\"\\n \\033[1;32m In Engligh -  \\n\")\n",
        "    print(result.text)  \n",
        "\n",
        "\n",
        "  \n",
        "output.register_callback('notebook.TranslateGermanEnglish', translate_german_english)"
      ],
      "execution_count": null,
      "outputs": [
        {
          "output_type": "display_data",
          "data": {
            "text/html": [
              "\n",
              "    German Text:   \n",
              "    <br>\n",
              "    <textarea id=\"germanText\" name=\"germanText\" rows=\"5\" cols=\"40\">lass uns Data Science studieren, eins zwei drei</textarea>\n",
              "    <br>\n",
              "    <button id='button' style=\"\">Translate</button>\n",
              "    <lable id=\"englishText\" />\n",
              "    <script>\n",
              "      document.querySelector('#button').onclick = () => {        \n",
              "        google.colab.kernel.invokeFunction('notebook.TranslateGermanEnglish', [document.querySelector('#germanText').value], {});\n",
              "      };\n",
              "    </script>\n",
              "    "
            ],
            "text/plain": [
              "<IPython.core.display.HTML object>"
            ]
          },
          "metadata": {
            "tags": []
          }
        },
        {
          "output_type": "display_data",
          "data": {
            "application/javascript": [
              "window[\"f73301ce-e249-11eb-b815-0242ac1c0002\"] = google.colab.output.getActiveOutputArea();\n",
              "//# sourceURL=js_1d15c3b675"
            ],
            "text/plain": [
              "<IPython.core.display.Javascript object>"
            ]
          },
          "metadata": {
            "tags": []
          }
        },
        {
          "output_type": "display_data",
          "data": {
            "application/javascript": [
              "window[\"f7338afe-e249-11eb-b815-0242ac1c0002\"] = document.querySelector(\"#englishText\");\n",
              "//# sourceURL=js_f724d4b319"
            ],
            "text/plain": [
              "<IPython.core.display.Javascript object>"
            ]
          },
          "metadata": {
            "tags": []
          }
        },
        {
          "output_type": "display_data",
          "data": {
            "application/javascript": [
              "window[\"f73400d8-e249-11eb-b815-0242ac1c0002\"] = google.colab.output.setActiveOutputArea(window[\"f7338afe-e249-11eb-b815-0242ac1c0002\"]);\n",
              "//# sourceURL=js_a3cde8f475"
            ],
            "text/plain": [
              "<IPython.core.display.Javascript object>"
            ]
          },
          "metadata": {
            "tags": []
          }
        },
        {
          "output_type": "stream",
          "text": [
            "\n",
            " \u001b[1;32m In Engligh -  \n",
            "\n",
            "Let us study Data Science, one two three\n"
          ],
          "name": "stdout"
        },
        {
          "output_type": "display_data",
          "data": {
            "application/javascript": [
              "window[\"f7347c66-e249-11eb-b815-0242ac1c0002\"] = google.colab.output.setActiveOutputArea(window[\"f73301ce-e249-11eb-b815-0242ac1c0002\"]);\n",
              "//# sourceURL=js_57229f7a17"
            ],
            "text/plain": [
              "<IPython.core.display.Javascript object>"
            ]
          },
          "metadata": {
            "tags": []
          }
        }
      ]
    }
  ]
}